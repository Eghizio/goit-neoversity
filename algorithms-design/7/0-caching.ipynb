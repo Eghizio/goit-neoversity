{
 "cells": [
  {
   "cell_type": "code",
   "execution_count": null,
   "id": "0f84975c",
   "metadata": {},
   "outputs": [],
   "source": [
    "from time import sleep\n",
    "from datetime import datetime, timedelta\n",
    "import random\n",
    "\n",
    "def log(label: str, msg: str): print(f\"({datetime.now()}) [{label}] {msg}\")\n",
    "\n",
    "cache = {}\n",
    "\n",
    "def mock_user(id: str):\n",
    "    return {\n",
    "        \"id\": id,\n",
    "        \"last_login\": datetime.now() - timedelta(seconds=random.randrange(3_600)),\n",
    "        \"url\": f\"https://api.com/users/{id}\"\n",
    "    }\n",
    "\n",
    "def fetch_user_from_server(user_id: str):\n",
    "    url = f\"https://api.com/users/{user_id}\"\n",
    "\n",
    "    log(\"api\", f\"🌐 Fetching data from '{url}'...\")\n",
    "    sleep(7) # Simulating a server request high latency\n",
    "\n",
    "    return mock_user(user_id)\n",
    "\n",
    "def get_user(user_id: str):\n",
    "    if user_id not in cache:\n",
    "        log(\"cache\", f\"❌ Miss - adding {user_id}\")\n",
    "        cache[user_id] = fetch_user_from_server(user_id)\n",
    "    else:\n",
    "        log(\"cache\", f\"✅ Hit - returning {user_id}\")\n",
    "\n",
    "    return cache[user_id]\n",
    "\n",
    "def time_user_request(user_id: str):\n",
    "    start = datetime.now()\n",
    "    result = get_user(user_id)\n",
    "    end = datetime.now()\n",
    "\n",
    "    duration = end - start\n",
    "    log(\"timer\", f\"Data retrieved after {duration}\")\n",
    "    print(result, \"\\n\")\n",
    "\n",
    "if __name__ == \"__main__\":\n",
    "    user_ids = [\"1\", \"1\", \"1\", \"42\"]\n",
    "\n",
    "    for user_id in user_ids:\n",
    "        time_user_request(user_id)\n"
   ]
  }
 ],
 "metadata": {
  "kernelspec": {
   "display_name": "venv",
   "language": "python",
   "name": "python3"
  },
  "language_info": {
   "codemirror_mode": {
    "name": "ipython",
    "version": 3
   },
   "file_extension": ".py",
   "mimetype": "text/x-python",
   "name": "python",
   "nbconvert_exporter": "python",
   "pygments_lexer": "ipython3",
   "version": "3.13.5"
  }
 },
 "nbformat": 4,
 "nbformat_minor": 5
}
