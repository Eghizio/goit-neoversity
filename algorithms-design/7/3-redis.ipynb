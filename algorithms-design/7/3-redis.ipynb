{
 "cells": [
  {
   "cell_type": "code",
   "execution_count": null,
   "id": "1f42b3bb",
   "metadata": {},
   "outputs": [],
   "source": [
    "# docker run --name redis-neoversity -d -p 6379:6379 redis\n",
    "# docker run -d --name redisinsight-neoversity -p 5540:5540 redis/redisinsight\n",
    "# Dockerized Redis host for Redis Insight: host.docker.internal\n",
    "\n",
    "import redis\n",
    "\n",
    "r = redis.Redis(host=\"localhost\", port=6379, password=None)\n",
    "\n",
    "r.set('foo', 'bar')\n",
    "\n",
    "value = r.get('foo')\n",
    "\n",
    "print(value) # b'bar' (bytes)\n",
    "print(value.decode(\"utf-8\")) # bar (str)"
   ]
  },
  {
   "cell_type": "code",
   "execution_count": null,
   "id": "f91e7826",
   "metadata": {},
   "outputs": [],
   "source": [
    "import redis\n",
    "from redis_lru import RedisLRU\n",
    "from random import randint\n",
    "\n",
    "client = redis.StrictRedis(host=\"localhost\", port=6379, password=None)\n",
    "cache = RedisLRU(client)\n",
    "\n",
    "# cache.clear_all_cache()\n",
    "\n",
    "@cache\n",
    "def f(n):\n",
    "    print(f\"Function call f({n})...\")\n",
    "    dice_rolls = [randint(1, 100) for _ in range(n)]\n",
    "    return dice_rolls\n",
    "\n",
    "if __name__ == '__main__':\n",
    "    for _ in range(10):\n",
    "        print(f\"Result f(3): {f(3)} \\n\")\n",
    "        # cache.clear_all_cache()"
   ]
  }
 ],
 "metadata": {
  "kernelspec": {
   "display_name": "venv",
   "language": "python",
   "name": "python3"
  },
  "language_info": {
   "codemirror_mode": {
    "name": "ipython",
    "version": 3
   },
   "file_extension": ".py",
   "mimetype": "text/x-python",
   "name": "python",
   "nbconvert_exporter": "python",
   "pygments_lexer": "ipython3",
   "version": "3.13.5"
  }
 },
 "nbformat": 4,
 "nbformat_minor": 5
}
