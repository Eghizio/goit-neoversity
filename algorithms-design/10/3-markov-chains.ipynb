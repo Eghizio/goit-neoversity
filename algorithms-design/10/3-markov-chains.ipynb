{
 "cells": [
  {
   "cell_type": "code",
   "execution_count": null,
   "id": "be5a652f",
   "metadata": {},
   "outputs": [],
   "source": [
    "import numpy as np\n",
    "\n",
    "# Transition matrix\n",
    "P = np.array([\n",
    "    # A,   B,   C\n",
    "    [0.1, 0.4, 0.2], # A\n",
    "    [0.6, 0.5, 0.3], # B\n",
    "    [0.3, 0.1, 0.5]  # C\n",
    "])\n",
    "\n",
    "# Initial probability distribution (e.g. 100% of users start on website A)\n",
    "initial_distribution = np.array([1.0, 0.0, 0.0])\n",
    "\n",
    "# Number of iterations to approximate the stationary distribution\n",
    "num_iterations = 100\n",
    "\n",
    "# Approximating the stationary distribution\n",
    "distribution = initial_distribution\n",
    "for _ in range(num_iterations):\n",
    "    distribution = P @ distribution\n",
    "\n",
    "print(\"Stationary distribution:\")\n",
    "print(\"Probability of being on site A:\", distribution[0])\n",
    "print(\"Probability of being on site B:\", distribution[1])\n",
    "print(\"Probability of being on site C:\", distribution[2])"
   ]
  }
 ],
 "metadata": {
  "kernelspec": {
   "display_name": "venv",
   "language": "python",
   "name": "python3"
  },
  "language_info": {
   "codemirror_mode": {
    "name": "ipython",
    "version": 3
   },
   "file_extension": ".py",
   "mimetype": "text/x-python",
   "name": "python",
   "nbconvert_exporter": "python",
   "pygments_lexer": "ipython3",
   "version": "3.13.5"
  }
 },
 "nbformat": 4,
 "nbformat_minor": 5
}
