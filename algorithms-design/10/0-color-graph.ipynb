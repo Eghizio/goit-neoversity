{
 "cells": [
  {
   "cell_type": "code",
   "execution_count": null,
   "id": "249dfc7d",
   "metadata": {},
   "outputs": [],
   "source": [
    "\"\"\"\n",
    "- P (Polynomial Time):\n",
    "Problems that can be solved by a deterministic algorithm in polynomial time O(n^k) for some constant k.\n",
    "These are considered \"efficiently solvable.\" Examples include sorting, shortest path, and maximum flow.\n",
    "\n",
    "- NP (Nondeterministic Polynomial):\n",
    "Problems where a proposed solution can be verified in polynomial time.\n",
    "Think of it as \"easy to check, potentially hard to solve.\"\n",
    "If someone claims they have a solution, you can quickly verify if they're correct.\n",
    "\n",
    "- Co-NP: The complement class of NP. These are problems where you can efficiently verify that something is NOT a solution.\n",
    "For example, verifying that a number is composite (not prime) by showing its factors.\n",
    "\n",
    "- NP-Hard Problems:\n",
    "Definition: Problems that are at least as hard as the hardest NP problems,\n",
    "but don't necessarily belong to NP themselves (because they might not have polynomial-time verifiable solutions).\n",
    "\"\"\""
   ]
  },
  {
   "cell_type": "code",
   "execution_count": null,
   "id": "4967f1ba",
   "metadata": {},
   "outputs": [],
   "source": [
    "from itertools import product\n",
    "\n",
    "# Function to check whether adjacent vertices have the same colour\n",
    "def is_valid_coloring(graph, coloring):\n",
    "    for u in graph:\n",
    "        for v in graph[u]:\n",
    "            if coloring[u] == coloring[v]:\n",
    "                return False\n",
    "            \n",
    "    return True\n",
    "\n",
    "# Brute force method\n",
    "def color_graph(graph, num_colors):\n",
    "    vertices = list(graph.keys())\n",
    "\n",
    "    # Generate all possible combinations of colours for the vertices\n",
    "    for coloring in product(range(num_colors), repeat=len(vertices)):\n",
    "        coloring_dict = dict(zip(vertices, coloring))\n",
    "        if is_valid_coloring(graph, coloring_dict):\n",
    "            return coloring_dict\n",
    "    \n",
    "    return None"
   ]
  },
  {
   "cell_type": "code",
   "execution_count": null,
   "id": "14622a45",
   "metadata": {},
   "outputs": [],
   "source": [
    "if __name__ == \"__main__\":\n",
    "    graph = {\n",
    "        'A': ['B', 'C'],\n",
    "        'B': ['A', 'C', 'D'],\n",
    "        'C': ['A', 'B', 'D'],\n",
    "        'D': ['B', 'C']\n",
    "    }\n",
    "\n",
    "    number_of_colors = 3\n",
    "\n",
    "    solution = color_graph(graph, number_of_colors)\n",
    "\n",
    "    if solution:\n",
    "        print(\"A valid colouring of the graph has been found:\", solution)\n",
    "    else:\n",
    "        print(\"It is not possible to colour the graph with the given number of colours.\")"
   ]
  }
 ],
 "metadata": {
  "kernelspec": {
   "display_name": "venv",
   "language": "python",
   "name": "python3"
  },
  "language_info": {
   "codemirror_mode": {
    "name": "ipython",
    "version": 3
   },
   "file_extension": ".py",
   "mimetype": "text/x-python",
   "name": "python",
   "nbconvert_exporter": "python",
   "pygments_lexer": "ipython3",
   "version": "3.13.5"
  }
 },
 "nbformat": 4,
 "nbformat_minor": 5
}
