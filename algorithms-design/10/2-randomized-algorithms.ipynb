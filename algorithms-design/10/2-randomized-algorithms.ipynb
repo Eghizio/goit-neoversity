{
 "cells": [
  {
   "cell_type": "code",
   "execution_count": null,
   "id": "e588465a",
   "metadata": {},
   "outputs": [],
   "source": [
    "import random\n",
    "\n",
    "def randomized_quick_sort(arr):\n",
    "    # If the array has fewer than two elements, it's already sorted\n",
    "    if len(arr) < 2:\n",
    "        return arr\n",
    "\n",
    "    # Choose a random index for the pivot element\n",
    "    pivot_index = random.randint(0, len(arr) - 1)\n",
    "    pivot = arr[pivot_index]\n",
    "\n",
    "    # Partition the array\n",
    "    left = [x for x in arr if x < pivot]\n",
    "    middle = [x for x in arr if x == pivot]\n",
    "    right = [x for x in arr if x > pivot]\n",
    "\n",
    "    # Recursively sort the partitions and combine them\n",
    "    return randomized_quick_sort(left) + middle + randomized_quick_sort(right)"
   ]
  },
  {
   "cell_type": "code",
   "execution_count": null,
   "id": "261a2eee",
   "metadata": {},
   "outputs": [],
   "source": [
    "if __name__ == \"__main__\":\n",
    "    arr = [3, 6, 8, 10, 1, 2, 1]\n",
    "\n",
    "    sorted_arr = randomized_quick_sort(arr)\n",
    "    \n",
    "    print(\"Sorted array:\", sorted_arr)"
   ]
  }
 ],
 "metadata": {
  "kernelspec": {
   "display_name": "venv",
   "language": "python",
   "name": "python3"
  },
  "language_info": {
   "codemirror_mode": {
    "name": "ipython",
    "version": 3
   },
   "file_extension": ".py",
   "mimetype": "text/x-python",
   "name": "python",
   "nbconvert_exporter": "python",
   "pygments_lexer": "ipython3",
   "version": "3.13.5"
  }
 },
 "nbformat": 4,
 "nbformat_minor": 5
}
