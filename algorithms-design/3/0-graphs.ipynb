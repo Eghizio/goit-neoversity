{
 "cells": [
  {
   "cell_type": "code",
   "execution_count": 4,
   "id": "cbf3164f",
   "metadata": {},
   "outputs": [
    {
     "name": "stdout",
     "output_type": "stream",
     "text": [
      "Shortest path from A to J: A -> C -> E -> J\n"
     ]
    }
   ],
   "source": [
    "import networkx as nx\n",
    "from collections import deque\n",
    "\n",
    "# Creating the graph\n",
    "G = nx.Graph()\n",
    "\n",
    "# Adding vertices and edges\n",
    "edges = [\n",
    "    # ('A', 'B'), ('A', 'C'), \n",
    "    ('A', 'C'), ('A', 'B'), \n",
    "    ('B', 'D'), ('C', 'E'), ('C', 'G'), \n",
    "    ('D', 'F'), ('E', 'G'), \n",
    "    ('F', 'H'), ('G', 'I'), \n",
    "    ('H', 'I'), ('H', 'J'), ('D', 'J'), ('E', 'J')\n",
    "]\n",
    "G.add_edges_from(edges)\n",
    "\n",
    "\n",
    "def bfs_shortest_path(graph, start, goal):\n",
    "    queue = deque([[start]])\n",
    "    visited = set()\n",
    "\n",
    "    while queue:\n",
    "        # Take the first path from the queue\n",
    "        path = queue.popleft()\n",
    "        # Get the last vertex from the path\n",
    "        node = path[-1]\n",
    "\n",
    "        # If goal is reached, return the path\n",
    "        if node == goal:\n",
    "            return path\n",
    "\n",
    "        # If node hasn’t been visited, explore its neighbours\n",
    "        elif node not in visited:\n",
    "            for neighbor in graph.neighbors(node):\n",
    "                new_path = list(path)\n",
    "                new_path.append(neighbor)\n",
    "                queue.append(new_path)\n",
    "\n",
    "            # Mark the node as visited\n",
    "            visited.add(node)\n",
    "\n",
    "    # If no path is found\n",
    "    return None\n",
    "\n",
    "\n",
    "shortest_path = bfs_shortest_path(G, 'A', 'J')\n",
    "\n",
    "if shortest_path:\n",
    "    print(\"Shortest path from A to J:\", ' -> '.join(shortest_path))\n",
    "else:\n",
    "    print(\"Path not found\")\n"
   ]
  }
 ],
 "metadata": {
  "kernelspec": {
   "display_name": "algorithms-design",
   "language": "python",
   "name": "python3"
  },
  "language_info": {
   "codemirror_mode": {
    "name": "ipython",
    "version": 3
   },
   "file_extension": ".py",
   "mimetype": "text/x-python",
   "name": "python",
   "nbconvert_exporter": "python",
   "pygments_lexer": "ipython3",
   "version": "3.13.5"
  }
 },
 "nbformat": 4,
 "nbformat_minor": 5
}
