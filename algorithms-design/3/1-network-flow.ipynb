{
 "cells": [
  {
   "cell_type": "code",
   "execution_count": 5,
   "id": "1f2991bf",
   "metadata": {},
   "outputs": [
    {
     "data": {
      "image/png": "[encoded data removed]",
      "text/plain": [
       "<Figure size 1000x600 with 1 Axes>"
      ]
     },
     "metadata": {},
     "output_type": "display_data"
    }
   ],
   "source": [
    "import networkx as nx\n",
    "import matplotlib.pyplot as plt\n",
    "\n",
    "# Create the graph\n",
    "G = nx.DiGraph()\n",
    "\n",
    "def edge(start: int, end: int, capacity: int): return (start, end, capacity)\n",
    "\n",
    "# Add edges with capacities\n",
    "edges = [\n",
    "    edge(0, 2, 15),  # Source 1 -> Intermediate Node 1\n",
    "    edge(0, 3, 10),  # Source 1 -> Intermediate Node 2\n",
    "    edge(1, 2, 20),  # Source 2 -> Intermediate Node 1\n",
    "    edge(2, 4, 10),  # Intermediate Node 1 -> Consumer 1\n",
    "    edge(2, 5, 5),   # Intermediate Node 1 -> Consumer 2\n",
    "    edge(3, 6, 15),  # Intermediate Node 2 -> Consumer 3\n",
    "]\n",
    "\n",
    "# Add all edges to the graph\n",
    "G.add_weighted_edges_from(edges)\n",
    "\n",
    "# Define positions for drawing the graph\n",
    "pos = {\n",
    "    0: (0, 2),  # Source 1\n",
    "    1: (0, 0),  # Source 2\n",
    "    2: (2, 2),  # Intermediate Node 1\n",
    "    3: (2, 1),  # Intermediate Node 2\n",
    "    4: (4, 2),  # Consumer 1\n",
    "    5: (4, 1),  # Consumer 2\n",
    "    6: (4, 0),  # Consumer 3\n",
    "}\n",
    "\n",
    "# Draw the graph\n",
    "plt.figure(figsize=(10, 6))\n",
    "nx.draw(G, pos, with_labels=True, node_size=2000, node_color=\"skyblue\", font_size=12, font_weight=\"bold\", arrows=True)\n",
    "labels = nx.get_edge_attributes(G, 'weight')\n",
    "nx.draw_networkx_edge_labels(G, pos, edge_labels=labels)\n",
    "\n",
    "# Display the graph\n",
    "plt.show()\n"
   ]
  },
  {
   "cell_type": "code",
   "execution_count": 8,
   "id": "2e800f46",
   "metadata": {},
   "outputs": [
    {
     "name": "stdout",
     "output_type": "stream",
     "text": [
      "Maximum flow: 10\n"
     ]
    }
   ],
   "source": [
    "from collections import deque\n",
    "\n",
    "# Function to find an augmenting path (BFS)\n",
    "def bfs(capacity_matrix, flow_matrix, source, sink, parent):\n",
    "    visited = [False] * len(capacity_matrix)\n",
    "    queue = deque([source])\n",
    "    visited[source] = True\n",
    "\n",
    "    while queue:\n",
    "        current_node = queue.popleft()\n",
    "        \n",
    "        for neighbor in range(len(capacity_matrix)):\n",
    "            # Check if there is residual capacity in the channel\n",
    "            if not visited[neighbor] and capacity_matrix[current_node][neighbor] - flow_matrix[current_node][neighbor] > 0:\n",
    "                parent[neighbor] = current_node\n",
    "                visited[neighbor] = True\n",
    "                if neighbor == sink:\n",
    "                    return True\n",
    "                queue.append(neighbor)\n",
    "    \n",
    "    return False\n",
    "\n",
    "# Main function to calculate the maximum flow\n",
    "def edmonds_karp(capacity_matrix, source, sink):\n",
    "    num_nodes = len(capacity_matrix)\n",
    "    flow_matrix = [[0] * num_nodes for _ in range(num_nodes)]  # Initialize the flow matrix with zero\n",
    "    parent = [-1] * num_nodes\n",
    "    max_flow = 0\n",
    "\n",
    "    # While there is an augmenting path, add flow\n",
    "    while bfs(capacity_matrix, flow_matrix, source, sink, parent):\n",
    "        # Find the minimum capacity along the found path (bottleneck)\n",
    "        path_flow = float('Inf')\n",
    "        current_node = sink\n",
    "\n",
    "        while current_node != source:\n",
    "            previous_node = parent[current_node]\n",
    "            path_flow = min(path_flow, capacity_matrix[previous_node][current_node] - flow_matrix[previous_node][current_node])\n",
    "            current_node = previous_node\n",
    "        \n",
    "        # Update the flow along the path, considering the reverse flow\n",
    "        current_node = sink\n",
    "        while current_node != source:\n",
    "            previous_node = parent[current_node]\n",
    "            flow_matrix[previous_node][current_node] += path_flow\n",
    "            flow_matrix[current_node][previous_node] -= path_flow\n",
    "            current_node = previous_node\n",
    "        \n",
    "        # Increase the maximum flow\n",
    "        max_flow += path_flow\n",
    "\n",
    "    return max_flow\n",
    "\n",
    "# Capacity matrix for the channels in the network (capacity_matrix)\n",
    "capacity_matrix = [\n",
    "    [0, 0, 15, 10, 0, 0, 0],  # Source 1\n",
    "    [0, 0, 20, 0, 0, 0, 0],   # Source 2\n",
    "    [0, 0, 0, 0, 10, 5, 0],   # Intermediate Node 1\n",
    "    [0, 0, 0, 0, 0, 0, 15],   # Intermediate Node 2\n",
    "    [0, 0, 0, 0, 0, 0, 0],    # Consumer 1\n",
    "    [0, 0, 0, 0, 0, 0, 0],    # Consumer 2\n",
    "    [0, 0, 0, 0, 0, 0, 0]     # Consumer 3\n",
    "]\n",
    "\n",
    "source = 1  # Source 1\n",
    "sink = 4    # Consumer 3\n",
    "\n",
    "print(f\"Maximum flow: {edmonds_karp(capacity_matrix, source, sink)}\")\n"
   ]
  }
 ],
 "metadata": {
  "kernelspec": {
   "display_name": "algorithms-design",
   "language": "python",
   "name": "python3"
  },
  "language_info": {
   "codemirror_mode": {
    "name": "ipython",
    "version": 3
   },
   "file_extension": ".py",
   "mimetype": "text/x-python",
   "name": "python",
   "nbconvert_exporter": "python",
   "pygments_lexer": "ipython3",
   "version": "3.13.5"
  }
 },
 "nbformat": 4,
 "nbformat_minor": 5
}
