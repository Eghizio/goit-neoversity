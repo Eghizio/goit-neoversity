{
 "cells": [
  {
   "cell_type": "code",
   "execution_count": 2,
   "id": "73009f8e",
   "metadata": {},
   "outputs": [
    {
     "name": "stdout",
     "output_type": "stream",
     "text": [
      "red\n",
      "not found\n",
      "1 red\n",
      "3 blue\n",
      "4 spades\n"
     ]
    }
   ],
   "source": [
    "from BTrees.OOBTree import OOBTree\n",
    "\n",
    "# Creating an OOBTree\n",
    "tree = OOBTree()\n",
    "\n",
    "# Adding objects with keys of the same type (integers)\n",
    "tree.update({\n",
    "    1: 'red',\n",
    "    2: 'green',\n",
    "    3: 'blue',\n",
    "    4: 'spades'\n",
    "})\n",
    "\n",
    "# Searching for objects\n",
    "print(tree.get(1))  # 'red'\n",
    "print(tree.get(5, 'not found'))  # 'not found'\n",
    "\n",
    "# Deleting objects\n",
    "del tree[2]\n",
    "\n",
    "# Viewing all objects\n",
    "for key, value in tree.items():\n",
    "    print(key, value)\n"
   ]
  }
 ],
 "metadata": {
  "kernelspec": {
   "display_name": "algorithms-design",
   "language": "python",
   "name": "python3"
  },
  "language_info": {
   "codemirror_mode": {
    "name": "ipython",
    "version": 3
   },
   "file_extension": ".py",
   "mimetype": "text/x-python",
   "name": "python",
   "nbconvert_exporter": "python",
   "pygments_lexer": "ipython3",
   "version": "3.13.5"
  }
 },
 "nbformat": 4,
 "nbformat_minor": 5
}
