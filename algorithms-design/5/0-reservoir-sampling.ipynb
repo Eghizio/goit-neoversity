{
 "cells": [
  {
   "cell_type": "code",
   "execution_count": 5,
   "id": "751785a4",
   "metadata": {},
   "outputs": [
    {
     "name": "stdout",
     "output_type": "stream",
     "text": [
      "Sample: [9615, 850756, 581427, 475614, 957344, 999078, 272805, 245023, 921712, 156270]\n",
      "Sorted sample(k=10): [9615, 156270, 245023, 272805, 475614, 581427, 850756, 921712, 957344, 999078]\n"
     ]
    }
   ],
   "source": [
    "import random\n",
    "\n",
    "def reservoir_sampling(stream, k):\n",
    "    reservoir = []\n",
    "    for i, item in enumerate(stream):\n",
    "        if i < k:\n",
    "            reservoir.append(item)\n",
    "        else:\n",
    "            j = random.randint(0, i)\n",
    "            if j < k:\n",
    "                reservoir[j] = item\n",
    "    return reservoir\n",
    "\n",
    "\n",
    "if __name__ == \"__main__\":\n",
    "    stream = range(1_000_000)\n",
    "    \n",
    "    sample = reservoir_sampling(stream, 10)\n",
    "    \n",
    "    print(\"Sample:\", sample)\n",
    "\n",
    "    print(f\"Sorted sample(k={len(sample)}):\", sorted(sample))"
   ]
  },
  {
   "cell_type": "code",
   "execution_count": 20,
   "id": "e4e99163",
   "metadata": {},
   "outputs": [
    {
     "name": "stdout",
     "output_type": "stream",
     "text": [
      "Recommended news:\n",
      "Article(#757, 'News 757') - 2025-08-04\n",
      "Article(#10, 'News 10') - 2025-08-03\n",
      "Article(#642, 'News 642') - 2025-07-28\n",
      "Article(#950, 'News 950') - 2025-07-30\n",
      "Article(#200, 'News 200') - 2025-08-03\n"
     ]
    }
   ],
   "source": [
    "import random\n",
    "from datetime import datetime, timedelta\n",
    "from dataclasses import dataclass\n",
    "\n",
    "@dataclass\n",
    "class NewsArticle:\n",
    "    id: int\n",
    "    title: str\n",
    "    publication_date: datetime\n",
    "\n",
    "    def __str__(self):\n",
    "        formatted_date = self.publication_date.strftime(\"%Y-%m-%d\")\n",
    "        return f\"Article(#{self.id}, '{self.title}') - {formatted_date}\"\n",
    "\n",
    "def news_stream(days=7):\n",
    "    current_date = datetime.now()\n",
    "    for i in range(1_000):  # 1_000 articles weekly\n",
    "        random_date = current_date - timedelta(days=random.randint(0, days))\n",
    "        yield NewsArticle(i, f\"News {i}\", random_date)\n",
    "\n",
    "if __name__ == \"__main__\":\n",
    "    # 5 randomly sampled news\n",
    "    featured_news = reservoir_sampling(news_stream(), 5)\n",
    "\n",
    "    print(\"Recommended news:\")\n",
    "    for article in featured_news: print(article)\n"
   ]
  }
 ],
 "metadata": {
  "kernelspec": {
   "display_name": "Python 3",
   "language": "python",
   "name": "python3"
  },
  "language_info": {
   "codemirror_mode": {
    "name": "ipython",
    "version": 3
   },
   "file_extension": ".py",
   "mimetype": "text/x-python",
   "name": "python",
   "nbconvert_exporter": "python",
   "pygments_lexer": "ipython3",
   "version": "3.9.6"
  }
 },
 "nbformat": 4,
 "nbformat_minor": 5
}
