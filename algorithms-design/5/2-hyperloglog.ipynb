{
 "cells": [
  {
   "cell_type": "code",
   "execution_count": null,
   "id": "9cba3883",
   "metadata": {},
   "outputs": [],
   "source": [
    "import random\n",
    "import mmh3\n",
    "import math\n",
    "\n",
    "class HyperLogLog:\n",
    "    def __init__(self, p=5):\n",
    "        self.p = p\n",
    "        self.m = 1 << p\n",
    "        self.registers = [0] * self.m\n",
    "        self.alpha = self._get_alpha()\n",
    "        self.small_range_correction = 5 * self.m / 2\n",
    "\n",
    "    def _get_alpha(self):\n",
    "        if self.p <= 16:\n",
    "            return 0.673\n",
    "        elif self.p == 32:\n",
    "            return 0.697\n",
    "        else:\n",
    "            return 0.7213 / (1 + 1.079 / self.m)\n",
    "\n",
    "    def add(self, item):\n",
    "        x = mmh3.hash(str(item), signed=False)\n",
    "        j = x & (self.m - 1)\n",
    "        w = x >> self.p\n",
    "        self.registers[j] = max(self.registers[j], self._rho(w))\n",
    "\n",
    "    def _rho(self, w):\n",
    "        return len(bin(w)) - 2 if w > 0 else 32\n",
    "\n",
    "    def count(self):\n",
    "        Z = sum(2.0**-r for r in self.registers)\n",
    "        E = self.alpha * self.m * self.m / Z\n",
    "\n",
    "        if E <= self.small_range_correction:\n",
    "            V = self.registers.count(0)\n",
    "            if V > 0:\n",
    "                return self.m * math.log(self.m / V)\n",
    "\n",
    "        return E"
   ]
  },
  {
   "cell_type": "code",
   "execution_count": null,
   "id": "b6aaa6fe",
   "metadata": {},
   "outputs": [
    {
     "name": "stdout",
     "output_type": "stream",
     "text": [
      "[HyperLogLog] Estimated cardinality: 20.012216974460493\n",
      "[Real] Actual cardinality: 20\n",
      "Error: 0.01221697446049319 (0.06 %)\n"
     ]
    }
   ],
   "source": [
    "all_tags = [\n",
    "    \"python\",\n",
    "    \"fastapi\",\n",
    "    \"web\",\n",
    "    \"api\",\n",
    "    \"database\",\n",
    "    \"sql\",\n",
    "    \"orm\",\n",
    "    \"async\",\n",
    "    \"programming\",\n",
    "    \"coding\",\n",
    "    \"development\",\n",
    "    \"software\",\n",
    "    \"tech\",\n",
    "    \"data\",\n",
    "    \"backend\",\n",
    "    \"frontend\",\n",
    "    \"fullstack\",\n",
    "    \"learning\",\n",
    "    \"tutorial\",\n",
    "    \"blog\",\n",
    "]\n",
    "\n",
    "if __name__ == \"__main__\":\n",
    "    hll = HyperLogLog(p=14)\n",
    "    \n",
    "    for i in range(100_000):\n",
    "        hll.add(random.choice(all_tags))\n",
    "\n",
    "    estimated_cardinality = hll.count()\n",
    "    \n",
    "    real_cardinality = len(all_tags)\n",
    "    \n",
    "    error_offset = abs(real_cardinality - estimated_cardinality)\n",
    "    percentage_error = round(error_offset / real_cardinality * 100, 2)\n",
    "\n",
    "    print(f\"[HyperLogLog] Estimated cardinality: {estimated_cardinality}\")\n",
    "    print(f\"[Real] Actual cardinality: {real_cardinality}\")\n",
    "    print(f\"Error: {error_offset} ({percentage_error} %)\")"
   ]
  }
 ],
 "metadata": {
  "kernelspec": {
   "display_name": "venv",
   "language": "python",
   "name": "python3"
  },
  "language_info": {
   "codemirror_mode": {
    "name": "ipython",
    "version": 3
   },
   "file_extension": ".py",
   "mimetype": "text/x-python",
   "name": "python",
   "nbconvert_exporter": "python",
   "pygments_lexer": "ipython3",
   "version": "3.13.5"
  }
 },
 "nbformat": 4,
 "nbformat_minor": 5
}
