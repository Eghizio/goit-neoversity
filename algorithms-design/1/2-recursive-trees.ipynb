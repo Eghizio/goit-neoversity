{
 "cells": [
  {
   "cell_type": "code",
   "execution_count": 3,
   "id": "66bcf632",
   "metadata": {},
   "outputs": [
    {
     "name": "stdout",
     "output_type": "stream",
     "text": [
      "\n",
      "Calculating power: 2^10\n",
      "- Power: 2^10\n",
      "- Power: 2^5\n",
      "- Power: 2^2\n",
      "- Power: 2^1\n",
      "- Power: 2^0\n",
      "1024\n",
      "\n",
      "Calculating power: 2^16\n",
      "- Power: 2^16\n",
      "- Power: 2^8\n",
      "- Power: 2^4\n",
      "- Power: 2^2\n",
      "- Power: 2^1\n",
      "- Power: 2^0\n",
      "65536\n",
      "\n",
      "Calculating power: 2^15\n",
      "- Power: 2^15\n",
      "- Power: 2^7\n",
      "- Power: 2^3\n",
      "- Power: 2^1\n",
      "- Power: 2^0\n",
      "32768\n"
     ]
    }
   ],
   "source": [
    "DEBUG = True\n",
    "def debug_print(message):\n",
    "    if DEBUG: print(message)\n",
    "\n",
    "def power(base, exponent):\n",
    "    debug_print(f\"- Power: {base}^{exponent}\")\n",
    "\n",
    "    if exponent == 0:\n",
    "        return 1\n",
    "    elif exponent % 2 == 0:\n",
    "        half_power = power(base, exponent // 2)\n",
    "        return half_power * half_power\n",
    "    else:\n",
    "        half_power = power(base, (exponent - 1) // 2)\n",
    "        return base * half_power * half_power\n",
    "\n",
    "print(\"\\nCalculating power: 2^10\")\n",
    "print(power(2, 10)) # O(log n)\n",
    "\n",
    "print(\"\\nCalculating power: 2^16\")\n",
    "print(power(2, 16))\n",
    "\n",
    "print(\"\\nCalculating power: 2^15\")\n",
    "print(power(2, 15))"
   ]
  }
 ],
 "metadata": {
  "kernelspec": {
   "display_name": "Python 3",
   "language": "python",
   "name": "python3"
  },
  "language_info": {
   "codemirror_mode": {
    "name": "ipython",
    "version": 3
   },
   "file_extension": ".py",
   "mimetype": "text/x-python",
   "name": "python",
   "nbconvert_exporter": "python",
   "pygments_lexer": "ipython3",
   "version": "3.9.6"
  }
 },
 "nbformat": 4,
 "nbformat_minor": 5
}
