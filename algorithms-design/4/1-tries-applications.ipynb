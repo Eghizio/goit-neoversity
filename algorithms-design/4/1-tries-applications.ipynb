{
 "cells": [
  {
   "cell_type": "code",
   "execution_count": 68,
   "id": "0e44462c",
   "metadata": {},
   "outputs": [],
   "source": [
    "from trie import Trie\n",
    "from typing import List\n",
    "\n",
    "products = [\n",
    "    \"apple\",\n",
    "    \"application\",\n",
    "    \"appetizer\",\n",
    "    \"banana\",\n",
    "    \"band\",\n",
    "    \"banner\",\n",
    "    \"ball\",\n",
    "    \"bat\",\n",
    "    \"battery\",\n",
    "]\n",
    "\n",
    "class ProductsTrie(Trie):\n",
    "    def __init__(self, keys = None):\n",
    "        super().__init__()\n",
    "        if keys != None:\n",
    "            self.put_many(keys)\n",
    "            \n",
    "    def put_many(self, keys: List[str]):\n",
    "        for index, key in enumerate(keys):\n",
    "            self.put(key, index)\n",
    "    \n",
    "    def _validate_str(self, text):\n",
    "        if not isinstance(text, str):\n",
    "            raise TypeError(f\"Illegal argument for countWordsWithPrefix: prefix = {text} must be a string\")\n",
    "        \n",
    "    def _validate_str_nonempty(self, text):\n",
    "        if not isinstance(text, str) or not text:\n",
    "            raise TypeError(f\"Illegal argument for contains: key = {text} must be a non-empty string\")"
   ]
  },
  {
   "cell_type": "code",
   "execution_count": 75,
   "id": "91fc3505",
   "metadata": {},
   "outputs": [
    {
     "name": "stdout",
     "output_type": "stream",
     "text": [
      "Products search result for 'ba':\n",
      "['banana', 'band', 'banner', 'ball', 'bat', 'battery']\n"
     ]
    }
   ],
   "source": [
    "class AutocompleteTrie(ProductsTrie):\n",
    "    def autocomplete(self, prefix):\n",
    "        return self.keys_with_prefix(prefix)\n",
    "\n",
    "if __name__ == \"__main__\":\n",
    "    trie = AutocompleteTrie(products)\n",
    "\n",
    "    # user_input = \"app\"\n",
    "    user_input = input(\"What are you searching for? \")\n",
    "    \n",
    "    suggestions = trie.autocomplete(user_input)\n",
    "    print(f\"Products search result for '{user_input}':\")\n",
    "    print(suggestions)"
   ]
  },
  {
   "cell_type": "code",
   "execution_count": 74,
   "id": "63cfdf51",
   "metadata": {},
   "outputs": [
    {
     "name": "stdout",
     "output_type": "stream",
     "text": [
      "Words amount prefixed with 'ba': 6\n"
     ]
    }
   ],
   "source": [
    "class CountWordsTrie(ProductsTrie):\n",
    "    def count_words_with_prefix(self, prefix):\n",
    "        self._validate_str(prefix)\n",
    "\n",
    "        current = self.root\n",
    "        for char in prefix:\n",
    "            if char not in current.children:\n",
    "                return 0\n",
    "            current = current.children[char]\n",
    "\n",
    "        return self._count_words(current)\n",
    "\n",
    "    def _count_words(self, node):\n",
    "        count = 1 if node.value is not None else 0\n",
    "        for child in node.children.values():\n",
    "            count += self._count_words(child)\n",
    "        return count\n",
    "\n",
    "\n",
    "if __name__ == \"__main__\":\n",
    "    trie = CountWordsTrie(products)\n",
    "\n",
    "    # user_input = \"app\"\n",
    "    user_input = input(\"What is the prefix for the words you wish to count? \")\n",
    "\n",
    "    count = trie.count_words_with_prefix(user_input)\n",
    "    print(f\"Words amount prefixed with '{user_input}': {count}\")"
   ]
  },
  {
   "cell_type": "code",
   "execution_count": 76,
   "id": "c71bdaf4",
   "metadata": {},
   "outputs": [
    {
     "name": "stdout",
     "output_type": "stream",
     "text": [
      "'apple' is written correctly.\n",
      "'app' not found in the dictionary.\n",
      "'banner' is written correctly.\n",
      "'bat' is written correctly.\n",
      "'batman' not found in the dictionary.\n"
     ]
    }
   ],
   "source": [
    "\n",
    "class T9(ProductsTrie):\n",
    "    def check_spelling(self, word):\n",
    "        self._validate_str_nonempty(word)\n",
    "        return trie.get(word) is not None\n",
    "\n",
    "\n",
    "if __name__ == \"__main__\":\n",
    "    trie = T9(products)\n",
    "\n",
    "    words_to_check = [\"apple\", \"app\", \"banner\", \"bat\", \"batman\"]\n",
    "\n",
    "    for word in words_to_check:\n",
    "        if trie.check_spelling(word):\n",
    "            print(f\"'{word}' is written correctly.\")\n",
    "        else:\n",
    "            print(f\"'{word}' not found in the dictionary.\")"
   ]
  },
  {
   "cell_type": "code",
   "execution_count": 87,
   "id": "0ab43d02",
   "metadata": {},
   "outputs": [
    {
     "name": "stdout",
     "output_type": "stream",
     "text": [
      "Possible corrections for 'allle':\n",
      "['ball', 'apple']\n"
     ]
    }
   ],
   "source": [
    "from collections import deque\n",
    "\n",
    "class LevenshteinTrie(ProductsTrie):\n",
    "    def get_corrections(self, word, max_distance=1):\n",
    "        queue = deque([(self.root, \"\", 0)])\n",
    "        corrections = []\n",
    "\n",
    "        while queue:\n",
    "            current_node, current_word, current_distance = queue.popleft()\n",
    "\n",
    "            if current_distance > max_distance:\n",
    "                continue\n",
    "\n",
    "            if current_node.value is not None and current_distance > 0:\n",
    "                corrections.append(current_word)\n",
    "\n",
    "            for char, next_node in current_node.children.items():\n",
    "                next_distance = current_distance + (\n",
    "                    0 if char == word[len(current_word)] else 1\n",
    "                )\n",
    "                queue.append((next_node, current_word + char, next_distance))\n",
    "\n",
    "        return corrections\n",
    "\n",
    "\n",
    "if __name__ == \"__main__\":\n",
    "    trie = LevenshteinTrie(products)\n",
    "\n",
    "    # word_with_typo = \"battary\"\n",
    "    word_with_typo = input(\"Wat are youuuu loooookin foooorzz? \")\n",
    "\n",
    "    corrections = trie.get_corrections(word_with_typo, max_distance=2)\n",
    "    print(f\"Possible corrections for '{word_with_typo}':\")\n",
    "    print(corrections)"
   ]
  }
 ],
 "metadata": {
  "kernelspec": {
   "display_name": "Python 3",
   "language": "python",
   "name": "python3"
  },
  "language_info": {
   "codemirror_mode": {
    "name": "ipython",
    "version": 3
   },
   "file_extension": ".py",
   "mimetype": "text/x-python",
   "name": "python",
   "nbconvert_exporter": "python",
   "pygments_lexer": "ipython3",
   "version": "3.9.6"
  }
 },
 "nbformat": 4,
 "nbformat_minor": 5
}
