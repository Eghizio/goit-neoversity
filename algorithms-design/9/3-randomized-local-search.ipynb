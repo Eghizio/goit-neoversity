{
 "cells": [
  {
   "cell_type": "code",
   "execution_count": null,
   "id": "7041a860",
   "metadata": {},
   "outputs": [],
   "source": [
    "import numpy as np\n",
    "import matplotlib.pyplot as plt\n",
    "\n",
    "def plot_results(point, objective_function, view_range: int):\n",
    "    x = np.linspace(-view_range, view_range, 100)\n",
    "    y = np.linspace(-view_range, view_range, 100)\n",
    "    X, Y = np.meshgrid(x, y)\n",
    "    Z = objective_function(X, Y)\n",
    "\n",
    "    plt.figure(figsize=(10, 6))\n",
    "    plt.contourf(X, Y, Z, levels=50, cmap='viridis')\n",
    "    plt.colorbar()\n",
    "    plt.scatter(*point, color='red', marker='o', label='Best point found')\n",
    "    plt.xlabel('x')\n",
    "    plt.ylabel('y')\n",
    "    plt.title('Target function and best point found')\n",
    "    plt.legend()\n",
    "    plt.show()"
   ]
  },
  {
   "cell_type": "code",
   "execution_count": null,
   "id": "b33986ab",
   "metadata": {},
   "outputs": [],
   "source": [
    "import random\n",
    "\n",
    "def objective_function(x, y):\n",
    "    return (x - 3)**2 + (y - 2)**2\n",
    "\n",
    "def get_random_neighbor(current, step_size=0.5):\n",
    "    x, y = current\n",
    "    new_x = x + random.uniform(-step_size, step_size)\n",
    "    new_y = y + random.uniform(-step_size, step_size)\n",
    "    return (new_x, new_y)\n",
    "\n",
    "def randomized_local_search(starting_point, max_iterations, step_size=0.5, probability=0.2):\n",
    "    current_point = starting_point\n",
    "    current_value = objective_function(*current_point)\n",
    "\n",
    "    for _iteration in range(max_iterations):\n",
    "        new_point = get_random_neighbor(current_point, step_size)\n",
    "        new_value = objective_function(*new_point)\n",
    "\n",
    "        # If better neighbour or randomly accepted.\n",
    "        if new_value < current_value or random.random() < probability:\n",
    "            current_point, current_value = new_point, new_value\n",
    "\n",
    "    return current_point, current_value"
   ]
  },
  {
   "cell_type": "code",
   "execution_count": null,
   "id": "4d631e82",
   "metadata": {},
   "outputs": [],
   "source": [
    "if __name__ == \"__main__\":\n",
    "    starting_point = (0.0, 0.0)\n",
    "    max_iterations = 100\n",
    "    best_point, best_value = randomized_local_search(starting_point, max_iterations)\n",
    "\n",
    "    print(f\"Best point found: {best_point}\")\n",
    "    print(f\"The value of the objective function at this point: {best_value}\")\n",
    "\n",
    "    plot_results(best_point, objective_function, view_range=50)"
   ]
  }
 ],
 "metadata": {
  "kernelspec": {
   "display_name": "venv",
   "language": "python",
   "name": "python3"
  },
  "language_info": {
   "codemirror_mode": {
    "name": "ipython",
    "version": 3
   },
   "file_extension": ".py",
   "mimetype": "text/x-python",
   "name": "python",
   "nbconvert_exporter": "python",
   "pygments_lexer": "ipython3",
   "version": "3.13.5"
  }
 },
 "nbformat": 4,
 "nbformat_minor": 5
}
