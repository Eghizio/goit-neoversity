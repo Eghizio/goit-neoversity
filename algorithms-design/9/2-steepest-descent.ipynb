{
 "cells": [
  {
   "cell_type": "code",
   "execution_count": null,
   "id": "402cecb2",
   "metadata": {},
   "outputs": [],
   "source": [
    "import numpy as np\n",
    "import matplotlib.pyplot as plt\n",
    "\n",
    "def plot_results(point, objective_function, view_range: int):\n",
    "    x = np.linspace(-view_range, view_range, 100)\n",
    "    y = np.linspace(-view_range, view_range, 100)\n",
    "    X, Y = np.meshgrid(x, y)\n",
    "    Z = objective_function(X, Y)\n",
    "\n",
    "    plt.figure(figsize=(10, 6))\n",
    "    plt.contourf(X, Y, Z, levels=50, cmap='viridis')\n",
    "    plt.colorbar()\n",
    "    plt.scatter(*point, color='red', marker='o', label='Best point found')\n",
    "    plt.xlabel('x')\n",
    "    plt.ylabel('y')\n",
    "    plt.title('Target function and best point found')\n",
    "    plt.legend()\n",
    "    plt.show()"
   ]
  },
  {
   "cell_type": "code",
   "execution_count": null,
   "id": "6c719900",
   "metadata": {},
   "outputs": [],
   "source": [
    "import numpy as np\n",
    "\n",
    "def objective_function(x, y):\n",
    "    return (x - 3) ** 2 + (y - 2) ** 2\n",
    "\n",
    "# Calculation of the gradient of the objective function\n",
    "def gradient(x, y):\n",
    "    df_dx = 2 * (x - 3)\n",
    "    df_dy = 2 * (y - 2)\n",
    "    return np.array([df_dx, df_dy])\n",
    "\n",
    "def steepest_descent(starting_point, learning_rate, max_iterations, tolerance=1e-6):\n",
    "    x = np.array(starting_point)\n",
    "\n",
    "    for _iteration in range(max_iterations):\n",
    "        grad = gradient(x[0], x[1])\n",
    "        \n",
    "        # Stopping condition - gradient almost zero\n",
    "        if np.linalg.norm(grad) < tolerance:\n",
    "            break\n",
    "\n",
    "        x = x - learning_rate * grad\n",
    "\n",
    "    return x"
   ]
  },
  {
   "cell_type": "code",
   "execution_count": null,
   "id": "041069e1",
   "metadata": {},
   "outputs": [],
   "source": [
    "if __name__ == \"__main__\":\n",
    "    starting_point = (0.0, 0.0)\n",
    "    learning_rate = 0.1\n",
    "    max_iterations = 100\n",
    "    minimum_point = steepest_descent(starting_point, learning_rate, max_iterations)\n",
    "\n",
    "    print(f\"Best point found: {minimum_point}\")\n",
    "\n",
    "    plot_results(minimum_point, objective_function, view_range=50)"
   ]
  }
 ],
 "metadata": {
  "kernelspec": {
   "display_name": "venv",
   "language": "python",
   "name": "python3"
  },
  "language_info": {
   "codemirror_mode": {
    "name": "ipython",
    "version": 3
   },
   "file_extension": ".py",
   "mimetype": "text/x-python",
   "name": "python",
   "nbconvert_exporter": "python",
   "pygments_lexer": "ipython3",
   "version": "3.13.5"
  }
 },
 "nbformat": 4,
 "nbformat_minor": 5
}
