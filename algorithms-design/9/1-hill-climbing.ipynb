{
 "cells": [
  {
   "cell_type": "code",
   "execution_count": null,
   "id": "9797076b",
   "metadata": {},
   "outputs": [],
   "source": [
    "import numpy as np\n",
    "import matplotlib.pyplot as plt\n",
    "\n",
    "def plot_results(point, objective_function, view_range: int):\n",
    "    x = np.linspace(-view_range, view_range, 100)\n",
    "    y = np.linspace(-view_range, view_range, 100)\n",
    "    X, Y = np.meshgrid(x, y)\n",
    "    Z = objective_function(X, Y)\n",
    "\n",
    "    plt.figure(figsize=(10, 6))\n",
    "    plt.contourf(X, Y, Z, levels=50, cmap='viridis')\n",
    "    plt.colorbar()\n",
    "    plt.scatter(*point, color='red', marker='o', label='Best point found')\n",
    "    plt.xlabel('x')\n",
    "    plt.ylabel('y')\n",
    "    plt.title('Target function and best point found')\n",
    "    plt.legend()\n",
    "    plt.show()"
   ]
  },
  {
   "cell_type": "code",
   "execution_count": null,
   "id": "5b81fd48",
   "metadata": {},
   "outputs": [],
   "source": [
    "import numpy as np\n",
    "\n",
    "\n",
    "def objective_function(x, y):\n",
    "    return np.sin(x) * np.cos(y) + 0.5 * np.exp(-((x - np.pi)**2 + (y - np.pi)**2))\n",
    "\n",
    "def get_neighbors(current, step_size=0.1):\n",
    "    x, y = current\n",
    "    return [\n",
    "        (x + step_size, y),\n",
    "        (x - step_size, y),\n",
    "        (x, y + step_size),\n",
    "        (x, y - step_size)\n",
    "    ]\n",
    "\n",
    "def hill_climbing(starting_point, max_iterations, step_size=0.1):\n",
    "    current_point = starting_point\n",
    "    current_value = objective_function(*current_point)\n",
    "\n",
    "    for _iteration in range(max_iterations):\n",
    "        neighbors = get_neighbors(current_point, step_size)\n",
    "\n",
    "        # Finding the best neighbor\n",
    "        next_point = None\n",
    "        next_value = -np.inf\n",
    "\n",
    "        for neighbor in neighbors:\n",
    "            value = objective_function(*neighbor)\n",
    "            if value > next_value:\n",
    "                next_point = neighbor\n",
    "                next_value = value\n",
    "\n",
    "        # If it is not possible to find a better neighbor - stop.\n",
    "        if next_value <= current_value:\n",
    "            break\n",
    "\n",
    "        # Continue to a better neighbor.\n",
    "        current_point, current_value = next_point, next_value\n",
    "\n",
    "    return current_point, current_value"
   ]
  },
  {
   "cell_type": "code",
   "execution_count": null,
   "id": "c128cc24",
   "metadata": {},
   "outputs": [],
   "source": [
    "if __name__ == \"__main__\":\n",
    "    starting_point = (0.0, 0.0)\n",
    "    max_iterations = 100\n",
    "    best_point, best_value = hill_climbing(starting_point, max_iterations)\n",
    "\n",
    "    print(f\"Best point found: {best_point}\")\n",
    "    print(f\"The value of the objective function at this point: {best_value}\")\n",
    "\n",
    "    view_range = 2 * np.pi\n",
    "    plot_results(best_point, objective_function, view_range)"
   ]
  }
 ],
 "metadata": {
  "kernelspec": {
   "display_name": "venv",
   "language": "python",
   "name": "python3"
  },
  "language_info": {
   "codemirror_mode": {
    "name": "ipython",
    "version": 3
   },
   "file_extension": ".py",
   "mimetype": "text/x-python",
   "name": "python",
   "nbconvert_exporter": "python",
   "pygments_lexer": "ipython3",
   "version": "3.13.5"
  }
 },
 "nbformat": 4,
 "nbformat_minor": 5
}
