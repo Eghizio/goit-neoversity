{
 "cells": [
  {
   "cell_type": "code",
   "execution_count": null,
   "id": "8235d5f0",
   "metadata": {},
   "outputs": [],
   "source": [
    "import numpy as np\n",
    "import matplotlib.pyplot as plt\n",
    "\n",
    "np.random.seed(42)\n",
    "X = 2 * np.random.rand(100, 1)\n",
    "y = 4 + 3 * X + np.random.randn(100, 1)\n",
    "\n",
    "m = len(X)\n",
    "alpha = 0.01  # Learning step\n",
    "n_iterations = 50\n",
    "\n",
    "# Initialization of model weights (w) and free term (b)\n",
    "w = np.random.randn(1, 1)\n",
    "b = np.random.randn(1, 1)\n",
    "\n",
    "def predict(X):\n",
    "    return X.dot(w) + b\n",
    "\n",
    "# SGD - Stochastic Gradient Descent\n",
    "for iteration in range(n_iterations):\n",
    "    for i in range(m):\n",
    "        random_index = np.random.randint(m)\n",
    "        xi = X[random_index:random_index + 1]\n",
    "        yi = y[random_index:random_index + 1]\n",
    "\n",
    "        y_pred = predict(xi)\n",
    "\n",
    "        gradient_w = 2 * xi.T.dot(y_pred - yi)\n",
    "        gradient_b = 2 * (y_pred - yi)\n",
    "\n",
    "        w -= alpha * gradient_w\n",
    "        b -= alpha * gradient_b\n",
    "\n",
    "# Plot results\n",
    "plt.scatter(X, y, color=\"blue\", label=\"Data\")\n",
    "plt.plot(X, predict(X), color=\"red\", label=\"Model (SGD)\")\n",
    "plt.xlabel(\"X\")\n",
    "plt.ylabel(\"y\")\n",
    "plt.legend()\n",
    "plt.show()"
   ]
  }
 ],
 "metadata": {
  "kernelspec": {
   "display_name": "venv",
   "language": "python",
   "name": "python3"
  },
  "language_info": {
   "codemirror_mode": {
    "name": "ipython",
    "version": 3
   },
   "file_extension": ".py",
   "mimetype": "text/x-python",
   "name": "python",
   "nbconvert_exporter": "python",
   "pygments_lexer": "ipython3",
   "version": "3.13.5"
  }
 },
 "nbformat": 4,
 "nbformat_minor": 5
}
