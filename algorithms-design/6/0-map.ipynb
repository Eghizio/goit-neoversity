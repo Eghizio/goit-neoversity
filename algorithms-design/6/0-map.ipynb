{
 "cells": [
  {
   "cell_type": "code",
   "execution_count": null,
   "id": "f5fedfb1",
   "metadata": {},
   "outputs": [],
   "source": [
    "numbers = [1, 2, 3, 4, 5]\n",
    "\n",
    "if __name__ == \"__main__\":\n",
    "    for x_squared in map(lambda x: x**2, numbers):\n",
    "        print(x_squared)"
   ]
  },
  {
   "cell_type": "code",
   "execution_count": null,
   "id": "367ce56d",
   "metadata": {},
   "outputs": [],
   "source": [
    "numbers = [1, 2, 3, 4, 5]\n",
    "\n",
    "if __name__ == \"__main__\":\n",
    "    squared_nums_mapped = list(map(lambda x: x**2, numbers))\n",
    "    print(squared_nums_mapped)\n",
    "\n",
    "    squared_nums_list_comprehension = [x * x for x in numbers]\n",
    "    print(squared_nums_list_comprehension)"
   ]
  },
  {
   "cell_type": "code",
   "execution_count": null,
   "id": "ed42f975",
   "metadata": {},
   "outputs": [],
   "source": [
    "nums_1 = [1, 2, 3]\n",
    "nums_2 = [4, 5, 6]\n",
    "\n",
    "if __name__ == \"__main__\":\n",
    "    sum_nums_mapped = list(map(lambda x, y: x + y, nums_1, nums_2))\n",
    "    print(sum_nums_mapped)\n",
    "\n",
    "    sum_nums_zipped = [x + y for x, y in zip(nums_1, nums_2)]\n",
    "    print(sum_nums_zipped)"
   ]
  }
 ],
 "metadata": {
  "kernelspec": {
   "display_name": "venv",
   "language": "python",
   "name": "python3"
  },
  "language_info": {
   "codemirror_mode": {
    "name": "ipython",
    "version": 3
   },
   "file_extension": ".py",
   "mimetype": "text/x-python",
   "name": "python",
   "nbconvert_exporter": "python",
   "pygments_lexer": "ipython3",
   "version": "3.13.5"
  }
 },
 "nbformat": 4,
 "nbformat_minor": 5
}
