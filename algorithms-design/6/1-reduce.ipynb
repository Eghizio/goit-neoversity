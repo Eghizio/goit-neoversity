{
 "cells": [
  {
   "cell_type": "code",
   "execution_count": null,
   "id": "451f12e4",
   "metadata": {},
   "outputs": [],
   "source": [
    "from functools import reduce\n",
    "from typing import List\n",
    "\n",
    "def sum_numbers(numbers: List[int]): return reduce(lambda x, y: x + y, numbers)\n",
    "\n",
    "def concatenate(words: List[str]): return reduce(lambda x, y: x + \" \" + y, words)\n",
    "\n",
    "def max_number(numbers: List[int]): return reduce(lambda x, y: x if x > y else y, numbers)\n",
    "\n",
    "if __name__ == \"__main__\":\n",
    "    print(\"Reduce examples:\")\n",
    "\n",
    "    print(\"* Sum: \", sum_numbers([1, 2, 3, 4, 5]))\n",
    "    \n",
    "    print(\"* Concatenation: \", concatenate([\"Hello\", \"World\", \"Python\"]))\n",
    "    \n",
    "    print(\"* Maximum: \", max_number([10, 4, 25, 7, 31]))"
   ]
  },
  {
   "cell_type": "code",
   "execution_count": null,
   "id": "056669b6",
   "metadata": {},
   "outputs": [],
   "source": [
    "from functools import reduce\n",
    "\n",
    "if __name__ == \"__main__\":\n",
    "    result = reduce((lambda x, y: x * y), [1, 2, 3, 4])\n",
    "    print(result)"
   ]
  },
  {
   "cell_type": "code",
   "execution_count": null,
   "id": "16498a95",
   "metadata": {},
   "outputs": [],
   "source": [
    "from functools import reduce\n",
    "\n",
    "if __name__ == \"__main__\":\n",
    "    initial_value = 3\n",
    "    result = reduce((lambda x, y: x * y), [1, 2, 3, 4], initial_value)\n",
    "    print(result)"
   ]
  },
  {
   "cell_type": "code",
   "execution_count": null,
   "id": "14794dcf",
   "metadata": {},
   "outputs": [],
   "source": [
    "from functools import reduce\n",
    "\n",
    "if __name__ == \"__main__\":\n",
    "    reduce((lambda x, y: print(x, y)), [1, 2, 3, 4], initial_value)"
   ]
  }
 ],
 "metadata": {
  "kernelspec": {
   "display_name": "venv",
   "language": "python",
   "name": "python3"
  },
  "language_info": {
   "codemirror_mode": {
    "name": "ipython",
    "version": 3
   },
   "file_extension": ".py",
   "mimetype": "text/x-python",
   "name": "python",
   "nbconvert_exporter": "python",
   "pygments_lexer": "ipython3",
   "version": "3.13.5"
  }
 },
 "nbformat": 4,
 "nbformat_minor": 5
}
