{
 "cells": [
  {
   "cell_type": "code",
   "execution_count": null,
   "id": "4e7dcb9d",
   "metadata": {},
   "outputs": [],
   "source": [
    "import time\n",
    "from functools import wraps\n",
    "\n",
    "def throttle(rate):\n",
    "    def decorator(func):\n",
    "        last_call = [0]\n",
    "\n",
    "        @wraps(func)\n",
    "        def wrapper(*args, **kwargs):\n",
    "            current_time = time.time()\n",
    "            if current_time - last_call[0] >= rate:\n",
    "                last_call[0] = current_time\n",
    "                return func(*args, **kwargs)\n",
    "            else:\n",
    "                print(\"Function call throttled\")\n",
    "        return wrapper\n",
    "    return decorator\n",
    "\n",
    "@throttle(1.0)  # The function may only be called once per second\n",
    "def my_function():\n",
    "    print(\"Function executed\")\n",
    "\n",
    "# Call the function several times\n",
    "for _ in range(5):\n",
    "    my_function()\n",
    "    time.sleep(0.3)"
   ]
  }
 ],
 "metadata": {
  "kernelspec": {
   "display_name": "venv",
   "language": "python",
   "name": "python3"
  },
  "language_info": {
   "codemirror_mode": {
    "name": "ipython",
    "version": 3
   },
   "file_extension": ".py",
   "mimetype": "text/x-python",
   "name": "python",
   "nbconvert_exporter": "python",
   "pygments_lexer": "ipython3",
   "version": "3.13.5"
  }
 },
 "nbformat": 4,
 "nbformat_minor": 5
}
