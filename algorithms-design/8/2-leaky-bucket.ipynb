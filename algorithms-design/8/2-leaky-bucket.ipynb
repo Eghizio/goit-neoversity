{
 "cells": [
  {
   "cell_type": "code",
   "execution_count": null,
   "id": "185e7438",
   "metadata": {},
   "outputs": [],
   "source": [
    "import time\n",
    "\n",
    "class LeakyBucket:\n",
    "    def __init__(self, capacity, leak_rate):\n",
    "        self.capacity = capacity\n",
    "        self.leak_rate = leak_rate\n",
    "        self.current_level = 0\n",
    "        self.last_check_time = time.monotonic()\n",
    "\n",
    "    def leak(self):\n",
    "        now = time.monotonic()\n",
    "        # Calculate how much time has passed since the last check\n",
    "        elapsed = now - self.last_check_time\n",
    "        # Determine how much data has leaked out during that time\n",
    "        leaked_amount = elapsed * self.leak_rate\n",
    "        # Decrease the current level, ensuring it doesn’t drop below zero\n",
    "        self.current_level = max(0, self.current_level - leaked_amount)\n",
    "        self.last_check_time = now\n",
    "\n",
    "    def add(self, amount):\n",
    "        # Perform leakage before adding to update the current level\n",
    "        self.leak()\n",
    "        if self.current_level + amount <= self.capacity:\n",
    "            self.current_level += amount\n",
    "            return True\n",
    "        return False # Operation rejected due to overflow"
   ]
  },
  {
   "cell_type": "code",
   "execution_count": null,
   "id": "d2b009b9",
   "metadata": {},
   "outputs": [],
   "source": [
    "if __name__ == \"__main__\":\n",
    "    leaky_bucket = LeakyBucket(capacity=10, leak_rate=2)\n",
    "\n",
    "    for i in range(15):\n",
    "        if leaky_bucket.add(3):\n",
    "            print(f\"Request {i + 1}: allowed\")\n",
    "        else:\n",
    "            print(f\"Request {i + 1}: rejected due to overflow\")\n",
    "        time.sleep(0.5)"
   ]
  }
 ],
 "metadata": {
  "kernelspec": {
   "display_name": "venv",
   "language": "python",
   "name": "python3"
  },
  "language_info": {
   "codemirror_mode": {
    "name": "ipython",
    "version": 3
   },
   "file_extension": ".py",
   "mimetype": "text/x-python",
   "name": "python",
   "nbconvert_exporter": "python",
   "pygments_lexer": "ipython3",
   "version": "3.13.5"
  }
 },
 "nbformat": 4,
 "nbformat_minor": 5
}
