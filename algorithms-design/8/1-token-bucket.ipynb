{
 "cells": [
  {
   "cell_type": "code",
   "execution_count": null,
   "id": "76e0e8ed",
   "metadata": {},
   "outputs": [],
   "source": [
    "import time\n",
    "\n",
    "class TokenBucket:\n",
    "    def __init__(self, capacity, refill_rate):\n",
    "        self.capacity = capacity\n",
    "        self.refill_rate = refill_rate\n",
    "        self.tokens = capacity # Bucket is full at the start\n",
    "        self.last_refill_time = time.monotonic()\n",
    "\n",
    "    def refill(self):\n",
    "        now = time.monotonic()\n",
    "        elapsed = now - self.last_refill_time  \n",
    "        new_tokens = elapsed * self.refill_rate \n",
    "        # Update the number of tokens without exceeding capacity\n",
    "        self.tokens = min(self.capacity, self.tokens + new_tokens)\n",
    "        self.last_refill_time = now \n",
    "\n",
    "    def consume(self, num_tokens):\n",
    "        self.refill() # Update tokens before attempting to consume\n",
    "        if self.tokens >= num_tokens:\n",
    "            self.tokens -= num_tokens \n",
    "            return True\n",
    "        return False # Not enough tokens to perform the operation\n"
   ]
  },
  {
   "cell_type": "code",
   "execution_count": null,
   "id": "d4a16f1f",
   "metadata": {},
   "outputs": [],
   "source": [
    "if __name__ == \"__main__\":\n",
    "    bucket = TokenBucket(capacity=10, refill_rate=2)  # 10 tokens, 2 tokens/sec \n",
    "\n",
    "    for i in range(20):\n",
    "        if bucket.consume(3):  # Attempt to consume 3 tokens\n",
    "            print(f\"Request {i + 1}: allowed\")\n",
    "        else:\n",
    "            print(f\"Request {i + 1}: denied\")\n",
    "        time.sleep(0.5)  # Delay between requests"
   ]
  }
 ],
 "metadata": {
  "kernelspec": {
   "display_name": "venv",
   "language": "python",
   "name": "python3"
  },
  "language_info": {
   "codemirror_mode": {
    "name": "ipython",
    "version": 3
   },
   "file_extension": ".py",
   "mimetype": "text/x-python",
   "name": "python",
   "nbconvert_exporter": "python",
   "pygments_lexer": "ipython3",
   "version": "3.13.5"
  }
 },
 "nbformat": 4,
 "nbformat_minor": 5
}
