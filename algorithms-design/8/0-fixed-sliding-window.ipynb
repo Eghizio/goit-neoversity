{
 "cells": [
  {
   "cell_type": "code",
   "execution_count": null,
   "id": "02e80461",
   "metadata": {},
   "outputs": [],
   "source": [
    "def max_sum_fixed_window(arr, k):\n",
    "    current_sum = sum(arr[:k]) # Sum of the initial window\n",
    "    max_sum = current_sum\n",
    "\n",
    "    for i in range(k, len(arr)):\n",
    "        current_sum += arr[i] - arr[i - k] # Add the new element and remove the old one\n",
    "        max_sum = max(max_sum, current_sum)\n",
    "\n",
    "    return max_sum"
   ]
  },
  {
   "cell_type": "code",
   "execution_count": null,
   "id": "946ab225",
   "metadata": {},
   "outputs": [],
   "source": [
    "if __name__ == \"__main__\":\n",
    "    arr = [3, 4, 1, 5, 6, 2, 6]\n",
    "    window_size = 3\n",
    "\n",
    "    max_sum = max_sum_fixed_window(arr, window_size)\n",
    "    print(f\"Maximum sum in a fixed-size window: {max_sum}\")"
   ]
  },
  {
   "cell_type": "code",
   "execution_count": null,
   "id": "b361de23",
   "metadata": {},
   "outputs": [],
   "source": [
    "def longest_unique_substring(s):\n",
    "    char_set = set()\n",
    "    left = 0\n",
    "    max_length = 0\n",
    "\n",
    "    for right in range(len(s)):\n",
    "        while s[right] in char_set:\n",
    "            char_set.remove(s[left])  # Remove the character from the left edge of the window\n",
    "            left += 1\n",
    "        char_set.add(s[right])  # Add the character from the right edge of the window\n",
    "        max_length = max(max_length, right - left + 1)\n",
    "\n",
    "    return max_length"
   ]
  },
  {
   "cell_type": "code",
   "execution_count": null,
   "id": "61dde24f",
   "metadata": {},
   "outputs": [],
   "source": [
    "if __name__ == \"__main__\":\n",
    "    print(longest_unique_substring(\"abcabcbb\"))"
   ]
  }
 ],
 "metadata": {
  "kernelspec": {
   "display_name": "venv",
   "language": "python",
   "name": "python3"
  },
  "language_info": {
   "codemirror_mode": {
    "name": "ipython",
    "version": 3
   },
   "file_extension": ".py",
   "mimetype": "text/x-python",
   "name": "python",
   "nbconvert_exporter": "python",
   "pygments_lexer": "ipython3",
   "version": "3.13.5"
  }
 },
 "nbformat": 4,
 "nbformat_minor": 5
}
