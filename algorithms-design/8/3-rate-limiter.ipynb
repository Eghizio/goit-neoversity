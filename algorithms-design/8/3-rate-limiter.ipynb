{
 "cells": [
  {
   "cell_type": "code",
   "execution_count": null,
   "id": "c4f1c046",
   "metadata": {},
   "outputs": [],
   "source": [
    "import time\n",
    "\n",
    "# Rate limiter with Token Bucket algorithm\n",
    "class RateLimiter:\n",
    "    def __init__(self, capacity, refill_rate):\n",
    "        self.capacity = capacity\n",
    "        self.tokens = capacity\n",
    "        self.refill_rate = refill_rate\n",
    "        self.last_refill_time = time.time()\n",
    "\n",
    "    def is_allowed(self):\n",
    "        current_time = time.time()\n",
    "        elapsed = current_time - self.last_refill_time\n",
    "\n",
    "        # Refill tokens\n",
    "        self.tokens = min(self.capacity, self.tokens + elapsed * self.refill_rate)\n",
    "        self.last_refill_time = current_time\n",
    "\n",
    "        if self.tokens >= 1:\n",
    "            self.tokens -= 1\n",
    "            return True\n",
    "        else:\n",
    "            return False"
   ]
  },
  {
   "cell_type": "code",
   "execution_count": null,
   "id": "c2a9441a",
   "metadata": {},
   "outputs": [],
   "source": [
    "if __name__ == \"__main__\":\n",
    "    limiter = RateLimiter(capacity=10, refill_rate=2)  # 10 tokens, 2 tokens/sec \n",
    "\n",
    "    for _ in range(15):\n",
    "        if limiter.is_allowed():\n",
    "            print(\"Request allowed\")\n",
    "        else:\n",
    "            print(\"Request denied\")"
   ]
  }
 ],
 "metadata": {
  "kernelspec": {
   "display_name": "venv",
   "language": "python",
   "name": "python3"
  },
  "language_info": {
   "codemirror_mode": {
    "name": "ipython",
    "version": 3
   },
   "file_extension": ".py",
   "mimetype": "text/x-python",
   "name": "python",
   "nbconvert_exporter": "python",
   "pygments_lexer": "ipython3",
   "version": "3.13.5"
  }
 },
 "nbformat": 4,
 "nbformat_minor": 5
}
