{
 "cells": [
  {
   "cell_type": "code",
   "execution_count": 1,
   "id": "1f9da152",
   "metadata": {},
   "outputs": [],
   "source": [
    "# Fibonacci recursive\n",
    "def fibonacci_recursive(n):\n",
    "    if n <= 1:\n",
    "        return n\n",
    "    return fibonacci_recursive(n-1) + fibonacci_recursive(n-2)\n",
    "\n",
    "\n",
    "# Fibonacci tabulation\n",
    "def fibonacci_dp(n):\n",
    "    # Initialising the array to store subproblem results\n",
    "    fib = [0] * (n + 1)\n",
    "    \n",
    "    # Base cases\n",
    "    fib[0] = 0\n",
    "    if n > 0:\n",
    "        fib[1] = 1\n",
    "    \n",
    "    # Filling the array\n",
    "    for i in range(2, n + 1):\n",
    "        fib[i] = fib[i-1] + fib[i-2]\n",
    "    \n",
    "    return fib[n]\n",
    "\n",
    "# Fibonnaci memoization\n",
    "def fibonacci_memo(n: int, memo: dict = None) -> int:\n",
    "    if memo is None:\n",
    "        memo = {}\n",
    "    \n",
    "    if n in memo:\n",
    "        return memo[n]\n",
    "    \n",
    "    if n <= 1:\n",
    "        return n\n",
    "    \n",
    "    memo[n] = fibonacci_memo(n-1, memo) + fibonacci_memo(n-2, memo)\n",
    "    return memo[n]"
   ]
  }
 ],
 "metadata": {
  "kernelspec": {
   "display_name": "Python 3",
   "language": "python",
   "name": "python3"
  },
  "language_info": {
   "codemirror_mode": {
    "name": "ipython",
    "version": 3
   },
   "file_extension": ".py",
   "mimetype": "text/x-python",
   "name": "python",
   "nbconvert_exporter": "python",
   "pygments_lexer": "ipython3",
   "version": "3.9.6"
  }
 },
 "nbformat": 4,
 "nbformat_minor": 5
}
